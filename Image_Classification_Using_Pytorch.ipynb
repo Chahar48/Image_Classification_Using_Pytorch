{
  "nbformat": 4,
  "nbformat_minor": 0,
  "metadata": {
    "colab": {
      "provenance": [],
      "gpuType": "T4"
    },
    "kernelspec": {
      "name": "python3",
      "display_name": "Python 3"
    },
    "language_info": {
      "name": "python"
    },
    "accelerator": "GPU"
  },
  "cells": [
    {
      "cell_type": "markdown",
      "source": [
        "# **1. Initializations and Dataset Download**"
      ],
      "metadata": {
        "id": "lLrCcyVGoslm"
      }
    },
    {
      "cell_type": "code",
      "execution_count": null,
      "metadata": {
        "colab": {
          "base_uri": "https://localhost:8080/"
        },
        "id": "Dj4yD1Mhg2PY",
        "outputId": "4064cb3e-7c60-4ed3-d9cb-7e010f02925d"
      },
      "outputs": [
        {
          "output_type": "stream",
          "name": "stdout",
          "text": [
            "Please provide your Kaggle credentials to download this dataset. Learn more: http://bit.ly/kaggle-creds\n",
            "Your Kaggle username: mukeshchahar\n",
            "Your Kaggle Key: ··········\n",
            "Dataset URL: https://www.kaggle.com/datasets/andrewmvd/animal-faces\n",
            "Downloading animal-faces.zip to ./animal-faces\n"
          ]
        },
        {
          "output_type": "stream",
          "name": "stderr",
          "text": [
            "100%|██████████| 696M/696M [00:07<00:00, 98.5MB/s]\n"
          ]
        },
        {
          "output_type": "stream",
          "name": "stdout",
          "text": [
            "\n"
          ]
        }
      ],
      "source": [
        "!pip install opendatasets --quiet\n",
        "import opendatasets as od\n",
        "od.download(\"https://www.kaggle.com/datasets/andrewmvd/animal-faces\")"
      ]
    },
    {
      "cell_type": "markdown",
      "source": [
        "# **2. Imports**"
      ],
      "metadata": {
        "id": "pppf6-vUqgQk"
      }
    },
    {
      "cell_type": "code",
      "source": [
        "import torch # Main PyTorch Library\n",
        "from torch import nn # Used for creating the layers and loss function\n",
        "from torch.optim import Adam # Adam Optimizer\n",
        "import torchvision.transforms as transforms # Transform function used to modify and preprocess all the images\n",
        "import torchvision.models as models # Import models module from torchvision\n",
        "from torch.utils.data import Dataset, DataLoader # Dataset class and DataLoader for creating the objects\n",
        "from sklearn.preprocessing import LabelEncoder # Label Encoder to encode the classes from strings to numbers\n",
        "import matplotlib.pyplot as plt # Used for visualizing the images and plotting the training progress\n",
        "from PIL import Image # Used to read the images from the directory\n",
        "import pandas as pd # Used to read/create dataframes (csv) and process tabular data\n",
        "import numpy as np # preprocessing and numerical/mathematical operations\n",
        "import os # Used to read the images path from the directory\n",
        "from sklearn.metrics import classification_report, confusion_matrix\n",
        "\n",
        "# import torchvision.models as models # This import is moved to Zcdk3pY4pncn\n",
        "from torchsummary import summary\n",
        "\n",
        "import seaborn as sns\n",
        "from tqdm import tqdm\n",
        "\n",
        "device = \"cuda\" if torch.cuda.is_available() else \"cpu\" # detect the GPU if any, if not use CPU, change cuda to mps if you have a mac\n",
        "print(\"Device available: \", device)"
      ],
      "metadata": {
        "colab": {
          "base_uri": "https://localhost:8080/"
        },
        "id": "Zcdk3pY4pncn",
        "outputId": "6a2f62df-78af-49be-b94d-76068fb16920"
      },
      "execution_count": null,
      "outputs": [
        {
          "output_type": "stream",
          "name": "stdout",
          "text": [
            "Device available:  cpu\n"
          ]
        }
      ]
    },
    {
      "cell_type": "markdown",
      "source": [
        "# **3. Reading Data Paths**"
      ],
      "metadata": {
        "id": "DmcPZ96XqqBO"
      }
    },
    {
      "cell_type": "code",
      "source": [
        "image_path = [] # Empty array where we will fill the paths of the images\n",
        "labels = [] # Empty array where we will fill the labes of the images\n",
        "\n",
        "for i in os.listdir(\"/content/animal-faces/afhq/\"): # Looping through the first directory which has the train and val images\n",
        "  for label in os.listdir(f\"/content/animal-faces/afhq/{i}\"): # Looping through the first directory which has the labels folders\n",
        "    for image in os.listdir(f\"/content/animal-faces/afhq/{i}/{label}\"): # Looping through all the images of this label\n",
        "      labels.append(label) # Append/Put this label in the list\n",
        "      image_path.append(f\"/content/animal-faces/afhq/{i}/{label}/{image}\") # Append/Put this image path in the list to read it later\n",
        "\n",
        "data_df = pd.DataFrame(zip(image_path, labels), columns = ['image_paths', 'labels']) # Create a dataframe contains the images paths and the labels\n",
        "data_df.head() # Visualizing the first 5 rows"
      ],
      "metadata": {
        "colab": {
          "base_uri": "https://localhost:8080/",
          "height": 206
        },
        "id": "mnlox3wVqeS1",
        "outputId": "6a67d6a0-85f5-4a51-f80b-f12cf9e68ce2"
      },
      "execution_count": null,
      "outputs": [
        {
          "output_type": "execute_result",
          "data": {
            "text/plain": [
              "                                         image_paths labels\n",
              "0  /content/animal-faces/afhq/train/cat/pixabay_c...    cat\n",
              "1  /content/animal-faces/afhq/train/cat/pixabay_c...    cat\n",
              "2  /content/animal-faces/afhq/train/cat/pixabay_c...    cat\n",
              "3  /content/animal-faces/afhq/train/cat/flickr_ca...    cat\n",
              "4  /content/animal-faces/afhq/train/cat/pixabay_c...    cat"
            ],
            "text/html": [
              "\n",
              "  <div id=\"df-67a4164b-5df3-4069-84d2-6447be113d10\" class=\"colab-df-container\">\n",
              "    <div>\n",
              "<style scoped>\n",
              "    .dataframe tbody tr th:only-of-type {\n",
              "        vertical-align: middle;\n",
              "    }\n",
              "\n",
              "    .dataframe tbody tr th {\n",
              "        vertical-align: top;\n",
              "    }\n",
              "\n",
              "    .dataframe thead th {\n",
              "        text-align: right;\n",
              "    }\n",
              "</style>\n",
              "<table border=\"1\" class=\"dataframe\">\n",
              "  <thead>\n",
              "    <tr style=\"text-align: right;\">\n",
              "      <th></th>\n",
              "      <th>image_paths</th>\n",
              "      <th>labels</th>\n",
              "    </tr>\n",
              "  </thead>\n",
              "  <tbody>\n",
              "    <tr>\n",
              "      <th>0</th>\n",
              "      <td>/content/animal-faces/afhq/train/cat/pixabay_c...</td>\n",
              "      <td>cat</td>\n",
              "    </tr>\n",
              "    <tr>\n",
              "      <th>1</th>\n",
              "      <td>/content/animal-faces/afhq/train/cat/pixabay_c...</td>\n",
              "      <td>cat</td>\n",
              "    </tr>\n",
              "    <tr>\n",
              "      <th>2</th>\n",
              "      <td>/content/animal-faces/afhq/train/cat/pixabay_c...</td>\n",
              "      <td>cat</td>\n",
              "    </tr>\n",
              "    <tr>\n",
              "      <th>3</th>\n",
              "      <td>/content/animal-faces/afhq/train/cat/flickr_ca...</td>\n",
              "      <td>cat</td>\n",
              "    </tr>\n",
              "    <tr>\n",
              "      <th>4</th>\n",
              "      <td>/content/animal-faces/afhq/train/cat/pixabay_c...</td>\n",
              "      <td>cat</td>\n",
              "    </tr>\n",
              "  </tbody>\n",
              "</table>\n",
              "</div>\n",
              "    <div class=\"colab-df-buttons\">\n",
              "\n",
              "  <div class=\"colab-df-container\">\n",
              "    <button class=\"colab-df-convert\" onclick=\"convertToInteractive('df-67a4164b-5df3-4069-84d2-6447be113d10')\"\n",
              "            title=\"Convert this dataframe to an interactive table.\"\n",
              "            style=\"display:none;\">\n",
              "\n",
              "  <svg xmlns=\"http://www.w3.org/2000/svg\" height=\"24px\" viewBox=\"0 -960 960 960\">\n",
              "    <path d=\"M120-120v-720h720v720H120Zm60-500h600v-160H180v160Zm220 220h160v-160H400v160Zm0 220h160v-160H400v160ZM180-400h160v-160H180v160Zm440 0h160v-160H620v160ZM180-180h160v-160H180v160Zm440 0h160v-160H620v160Z\"/>\n",
              "  </svg>\n",
              "    </button>\n",
              "\n",
              "  <style>\n",
              "    .colab-df-container {\n",
              "      display:flex;\n",
              "      gap: 12px;\n",
              "    }\n",
              "\n",
              "    .colab-df-convert {\n",
              "      background-color: #E8F0FE;\n",
              "      border: none;\n",
              "      border-radius: 50%;\n",
              "      cursor: pointer;\n",
              "      display: none;\n",
              "      fill: #1967D2;\n",
              "      height: 32px;\n",
              "      padding: 0 0 0 0;\n",
              "      width: 32px;\n",
              "    }\n",
              "\n",
              "    .colab-df-convert:hover {\n",
              "      background-color: #E2EBFA;\n",
              "      box-shadow: 0px 1px 2px rgba(60, 64, 67, 0.3), 0px 1px 3px 1px rgba(60, 64, 67, 0.15);\n",
              "      fill: #174EA6;\n",
              "    }\n",
              "\n",
              "    .colab-df-buttons div {\n",
              "      margin-bottom: 4px;\n",
              "    }\n",
              "\n",
              "    [theme=dark] .colab-df-convert {\n",
              "      background-color: #3B4455;\n",
              "      fill: #D2E3FC;\n",
              "    }\n",
              "\n",
              "    [theme=dark] .colab-df-convert:hover {\n",
              "      background-color: #434B5C;\n",
              "      box-shadow: 0px 1px 3px 1px rgba(0, 0, 0, 0.15);\n",
              "      filter: drop-shadow(0px 1px 2px rgba(0, 0, 0, 0.3));\n",
              "      fill: #FFFFFF;\n",
              "    }\n",
              "  </style>\n",
              "\n",
              "    <script>\n",
              "      const buttonEl =\n",
              "        document.querySelector('#df-67a4164b-5df3-4069-84d2-6447be113d10 button.colab-df-convert');\n",
              "      buttonEl.style.display =\n",
              "        google.colab.kernel.accessAllowed ? 'block' : 'none';\n",
              "\n",
              "      async function convertToInteractive(key) {\n",
              "        const element = document.querySelector('#df-67a4164b-5df3-4069-84d2-6447be113d10');\n",
              "        const dataTable =\n",
              "          await google.colab.kernel.invokeFunction('convertToInteractive',\n",
              "                                                    [key], {});\n",
              "        if (!dataTable) return;\n",
              "\n",
              "        const docLinkHtml = 'Like what you see? Visit the ' +\n",
              "          '<a target=\"_blank\" href=https://colab.research.google.com/notebooks/data_table.ipynb>data table notebook</a>'\n",
              "          + ' to learn more about interactive tables.';\n",
              "        element.innerHTML = '';\n",
              "        dataTable['output_type'] = 'display_data';\n",
              "        await google.colab.output.renderOutput(dataTable, element);\n",
              "        const docLink = document.createElement('div');\n",
              "        docLink.innerHTML = docLinkHtml;\n",
              "        element.appendChild(docLink);\n",
              "      }\n",
              "    </script>\n",
              "  </div>\n",
              "\n",
              "\n",
              "    <div id=\"df-21581bb8-5a4b-4cf5-8d9b-96934136cc83\">\n",
              "      <button class=\"colab-df-quickchart\" onclick=\"quickchart('df-21581bb8-5a4b-4cf5-8d9b-96934136cc83')\"\n",
              "                title=\"Suggest charts\"\n",
              "                style=\"display:none;\">\n",
              "\n",
              "<svg xmlns=\"http://www.w3.org/2000/svg\" height=\"24px\"viewBox=\"0 0 24 24\"\n",
              "     width=\"24px\">\n",
              "    <g>\n",
              "        <path d=\"M19 3H5c-1.1 0-2 .9-2 2v14c0 1.1.9 2 2 2h14c1.1 0 2-.9 2-2V5c0-1.1-.9-2-2-2zM9 17H7v-7h2v7zm4 0h-2V7h2v10zm4 0h-2v-4h2v4z\"/>\n",
              "    </g>\n",
              "</svg>\n",
              "      </button>\n",
              "\n",
              "<style>\n",
              "  .colab-df-quickchart {\n",
              "      --bg-color: #E8F0FE;\n",
              "      --fill-color: #1967D2;\n",
              "      --hover-bg-color: #E2EBFA;\n",
              "      --hover-fill-color: #174EA6;\n",
              "      --disabled-fill-color: #AAA;\n",
              "      --disabled-bg-color: #DDD;\n",
              "  }\n",
              "\n",
              "  [theme=dark] .colab-df-quickchart {\n",
              "      --bg-color: #3B4455;\n",
              "      --fill-color: #D2E3FC;\n",
              "      --hover-bg-color: #434B5C;\n",
              "      --hover-fill-color: #FFFFFF;\n",
              "      --disabled-bg-color: #3B4455;\n",
              "      --disabled-fill-color: #666;\n",
              "  }\n",
              "\n",
              "  .colab-df-quickchart {\n",
              "    background-color: var(--bg-color);\n",
              "    border: none;\n",
              "    border-radius: 50%;\n",
              "    cursor: pointer;\n",
              "    display: none;\n",
              "    fill: var(--fill-color);\n",
              "    height: 32px;\n",
              "    padding: 0;\n",
              "    width: 32px;\n",
              "  }\n",
              "\n",
              "  .colab-df-quickchart:hover {\n",
              "    background-color: var(--hover-bg-color);\n",
              "    box-shadow: 0 1px 2px rgba(60, 64, 67, 0.3), 0 1px 3px 1px rgba(60, 64, 67, 0.15);\n",
              "    fill: var(--button-hover-fill-color);\n",
              "  }\n",
              "\n",
              "  .colab-df-quickchart-complete:disabled,\n",
              "  .colab-df-quickchart-complete:disabled:hover {\n",
              "    background-color: var(--disabled-bg-color);\n",
              "    fill: var(--disabled-fill-color);\n",
              "    box-shadow: none;\n",
              "  }\n",
              "\n",
              "  .colab-df-spinner {\n",
              "    border: 2px solid var(--fill-color);\n",
              "    border-color: transparent;\n",
              "    border-bottom-color: var(--fill-color);\n",
              "    animation:\n",
              "      spin 1s steps(1) infinite;\n",
              "  }\n",
              "\n",
              "  @keyframes spin {\n",
              "    0% {\n",
              "      border-color: transparent;\n",
              "      border-bottom-color: var(--fill-color);\n",
              "      border-left-color: var(--fill-color);\n",
              "    }\n",
              "    20% {\n",
              "      border-color: transparent;\n",
              "      border-left-color: var(--fill-color);\n",
              "      border-top-color: var(--fill-color);\n",
              "    }\n",
              "    30% {\n",
              "      border-color: transparent;\n",
              "      border-left-color: var(--fill-color);\n",
              "      border-top-color: var(--fill-color);\n",
              "      border-right-color: var(--fill-color);\n",
              "    }\n",
              "    40% {\n",
              "      border-color: transparent;\n",
              "      border-right-color: var(--fill-color);\n",
              "      border-top-color: var(--fill-color);\n",
              "    }\n",
              "    60% {\n",
              "      border-color: transparent;\n",
              "      border-right-color: var(--fill-color);\n",
              "    }\n",
              "    80% {\n",
              "      border-color: transparent;\n",
              "      border-right-color: var(--fill-color);\n",
              "      border-bottom-color: var(--fill-color);\n",
              "    }\n",
              "    90% {\n",
              "      border-color: transparent;\n",
              "      border-bottom-color: var(--fill-color);\n",
              "    }\n",
              "  }\n",
              "</style>\n",
              "\n",
              "      <script>\n",
              "        async function quickchart(key) {\n",
              "          const quickchartButtonEl =\n",
              "            document.querySelector('#' + key + ' button');\n",
              "          quickchartButtonEl.disabled = true;  // To prevent multiple clicks.\n",
              "          quickchartButtonEl.classList.add('colab-df-spinner');\n",
              "          try {\n",
              "            const charts = await google.colab.kernel.invokeFunction(\n",
              "                'suggestCharts', [key], {});\n",
              "          } catch (error) {\n",
              "            console.error('Error during call to suggestCharts:', error);\n",
              "          }\n",
              "          quickchartButtonEl.classList.remove('colab-df-spinner');\n",
              "          quickchartButtonEl.classList.add('colab-df-quickchart-complete');\n",
              "        }\n",
              "        (() => {\n",
              "          let quickchartButtonEl =\n",
              "            document.querySelector('#df-21581bb8-5a4b-4cf5-8d9b-96934136cc83 button');\n",
              "          quickchartButtonEl.style.display =\n",
              "            google.colab.kernel.accessAllowed ? 'block' : 'none';\n",
              "        })();\n",
              "      </script>\n",
              "    </div>\n",
              "\n",
              "    </div>\n",
              "  </div>\n"
            ],
            "application/vnd.google.colaboratory.intrinsic+json": {
              "type": "dataframe",
              "variable_name": "data_df",
              "summary": "{\n  \"name\": \"data_df\",\n  \"rows\": 16130,\n  \"fields\": [\n    {\n      \"column\": \"image_paths\",\n      \"properties\": {\n        \"dtype\": \"string\",\n        \"num_unique_values\": 16130,\n        \"samples\": [\n          \"/content/animal-faces/afhq/train/dog/pixabay_dog_003224.jpg\",\n          \"/content/animal-faces/afhq/train/cat/pixabay_cat_002068.jpg\",\n          \"/content/animal-faces/afhq/train/wild/pixabay_wild_000204.jpg\"\n        ],\n        \"semantic_type\": \"\",\n        \"description\": \"\"\n      }\n    },\n    {\n      \"column\": \"labels\",\n      \"properties\": {\n        \"dtype\": \"category\",\n        \"num_unique_values\": 3,\n        \"samples\": [\n          \"cat\",\n          \"dog\",\n          \"wild\"\n        ],\n        \"semantic_type\": \"\",\n        \"description\": \"\"\n      }\n    }\n  ]\n}"
            }
          },
          "metadata": {},
          "execution_count": 3
        }
      ]
    },
    {
      "cell_type": "markdown",
      "source": [
        "# **4. Data Inspection**"
      ],
      "metadata": {
        "id": "R5s1Td9SrfwP"
      }
    },
    {
      "cell_type": "code",
      "source": [
        "print(\"Classes are: \")\n",
        "print(data_df[\"labels\"].unique())\n",
        "print()\n",
        "print(\"Classes ditrubution are: \")\n",
        "print(data_df[\"labels\"].value_counts())"
      ],
      "metadata": {
        "colab": {
          "base_uri": "https://localhost:8080/"
        },
        "id": "TdGmWfokrjRr",
        "outputId": "7fbd8bb2-6d52-4eb8-f715-fec9f8cbe62a"
      },
      "execution_count": null,
      "outputs": [
        {
          "output_type": "stream",
          "name": "stdout",
          "text": [
            "Classes are: \n",
            "['cat' 'dog' 'wild']\n",
            "\n",
            "Classes ditrubution are: \n",
            "labels\n",
            "cat     5653\n",
            "dog     5239\n",
            "wild    5238\n",
            "Name: count, dtype: int64\n"
          ]
        }
      ]
    },
    {
      "cell_type": "markdown",
      "source": [
        "# **5. Data Split**"
      ],
      "metadata": {
        "id": "rMvU0a-drAh3"
      }
    },
    {
      "cell_type": "code",
      "source": [
        "train=data_df.sample(frac=0.7,random_state=7) # Create training of 70% of the data\n",
        "test=data_df.drop(train.index) # Create testing by removing the 70% of the train data which will result in 30%\n",
        "\n",
        "val=test.sample(frac=0.5,random_state=7) # Create validation of 50% of the testing data\n",
        "test=test.drop(val.index) # Create testing by removing the 50% of the validation data which will result in 50%"
      ],
      "metadata": {
        "id": "OGpOQnCKq8iK"
      },
      "execution_count": null,
      "outputs": []
    },
    {
      "cell_type": "markdown",
      "source": [
        "# **6. Preprocessing Objects**"
      ],
      "metadata": {
        "id": "m1VsKz0grMM6"
      }
    },
    {
      "cell_type": "code",
      "source": [
        "label_encoder = LabelEncoder() # Encode the string classes to numeric\n",
        "label_encoder.fit(data_df['labels']) # Fit the label encoder on our own data\n",
        "\n",
        "transform = transforms.Compose([\n",
        "    transforms.Resize((128, 128)), # One size for all images\n",
        "    transforms.ToTensor(), # Convert images to PyTorch tensors\n",
        "    transforms.ConvertImageDtype(torch.float) # The values are in floating point numbers\n",
        "    ]) # Transform all images into one clear format (preprocess all images to same properties)"
      ],
      "metadata": {
        "id": "ow2vnOlkrE5t"
      },
      "execution_count": null,
      "outputs": []
    },
    {
      "cell_type": "markdown",
      "source": [
        "# **7. Custom Dataset Class**"
      ],
      "metadata": {
        "id": "p0F-Azj3vSpe"
      }
    },
    {
      "cell_type": "code",
      "source": [
        "class CustomImageDataset(Dataset):\n",
        "    def __init__(self, dataframe, transform=None):\n",
        "        self.dataframe = dataframe\n",
        "        self.transform = transform\n",
        "        self.labels = torch.tensor(label_encoder.transform(dataframe['labels'])).to(device)\n",
        "\n",
        "    def __len__(self):\n",
        "        return self.dataframe.shape[0]\n",
        "\n",
        "    def __getitem__(self, idx):\n",
        "        img_path = self.dataframe.iloc[idx, 0]\n",
        "        label = self.labels[idx]\n",
        "        image = Image.open(img_path).convert('RGB')\n",
        "        if self.transform:\n",
        "          image = self.transform(image).to(device)\n",
        "\n",
        "        return image, label"
      ],
      "metadata": {
        "id": "JftyD1E1rRxR"
      },
      "execution_count": null,
      "outputs": []
    },
    {
      "cell_type": "markdown",
      "source": [
        "# **7. Create Dataset Objects**"
      ],
      "metadata": {
        "id": "r9RvIA1lvY4r"
      }
    },
    {
      "cell_type": "code",
      "source": [
        "train_dataset = CustomImageDataset(dataframe=train, transform=transform)\n",
        "val_dataset = CustomImageDataset(dataframe=val, transform=transform)\n",
        "test_dataset = CustomImageDataset(dataframe=test, transform=transform)"
      ],
      "metadata": {
        "id": "Tk3M2WcLvUyi"
      },
      "execution_count": null,
      "outputs": []
    },
    {
      "cell_type": "code",
      "source": [
        "train_dataset.__len__()"
      ],
      "metadata": {
        "id": "QQtFQGvvvcLH"
      },
      "execution_count": null,
      "outputs": []
    },
    {
      "cell_type": "code",
      "source": [
        "train_dataset.__getitem__(1)"
      ],
      "metadata": {
        "id": "RYg68gOyveVj"
      },
      "execution_count": null,
      "outputs": []
    },
    {
      "cell_type": "code",
      "source": [
        "label_encoder.inverse_transform([0])"
      ],
      "metadata": {
        "id": "zeKpfNijvhUB"
      },
      "execution_count": null,
      "outputs": []
    },
    {
      "cell_type": "markdown",
      "source": [
        "# **8. Visualize Images**"
      ],
      "metadata": {
        "id": "NC3OCX3YvmuV"
      }
    },
    {
      "cell_type": "code",
      "source": [
        "n_rows = 3\n",
        "n_cols = 3\n",
        "f, axarr = plt.subplots(n_rows, n_cols)\n",
        "for row in range(n_rows):\n",
        "    for col in range(n_cols):\n",
        "      image = Image.open(data_df.sample(n = 1)['image_paths'].iloc[0]).convert(\"RGB\")\n",
        "      axarr[row, col].imshow(image)\n",
        "      axarr[row, col].axis('off')\n",
        "\n",
        "plt.show()"
      ],
      "metadata": {
        "id": "OXmQKPrQvk22"
      },
      "execution_count": null,
      "outputs": []
    },
    {
      "cell_type": "markdown",
      "source": [
        "# **10. Hyperparameters**"
      ],
      "metadata": {
        "id": "itgu_W_wv9z2"
      }
    },
    {
      "cell_type": "code",
      "source": [
        "LR = 1e-4\n",
        "BATCH_SIZE = 16\n",
        "EPOCHS = 10"
      ],
      "metadata": {
        "id": "E8YZTOgCvsMj"
      },
      "execution_count": null,
      "outputs": []
    },
    {
      "cell_type": "markdown",
      "source": [
        "# **10. DataLoaders**"
      ],
      "metadata": {
        "id": "Nvb91Re8wLKa"
      }
    },
    {
      "cell_type": "code",
      "source": [
        "train_loader = DataLoader(train_dataset, batch_size=BATCH_SIZE, shuffle=True)\n",
        "val_loader = DataLoader(val_dataset, batch_size=BATCH_SIZE, shuffle=True)\n",
        "test_loader = DataLoader(test_dataset, batch_size=BATCH_SIZE, shuffle=True)"
      ],
      "metadata": {
        "id": "XRPN8rjqwKh5"
      },
      "execution_count": null,
      "outputs": []
    },
    {
      "cell_type": "code",
      "source": [
        "# Set device\n",
        "device = torch.device('cuda' if torch.cuda.is_available() else 'cpu')\n",
        "print(f\"Using device: {device}\")"
      ],
      "metadata": {
        "id": "gYeJI3_YYVZ3"
      },
      "execution_count": null,
      "outputs": []
    },
    {
      "cell_type": "code",
      "source": [
        "# Load pretrained ResNet50 and modify for transfer learning\n",
        "def create_resnet50_model(num_classes=3, freeze_layers=True):\n",
        "    \"\"\"\n",
        "    Create ResNet50 model for transfer learning\n",
        "\n",
        "    Args:\n",
        "        num_classes: Number of output classes (3 for cat, dog, wild)\n",
        "        freeze_layers: Whether to freeze early layers\n",
        "    \"\"\"\n",
        "    # Load pretrained ResNet50\n",
        "    model = models.resnet50(pretrained=True)\n",
        "\n",
        "    # Freeze early layers for transfer learning\n",
        "    if freeze_layers:\n",
        "        for param in model.parameters():\n",
        "            param.requires_grad = False\n",
        "\n",
        "        # Unfreeze the last few layers for fine-tuning\n",
        "        for param in model.layer4.parameters():\n",
        "            param.requires_grad = True\n",
        "\n",
        "    # Replace the final fully connected layer\n",
        "    num_features = model.fc.in_features\n",
        "    model.fc = nn.Sequential(\n",
        "        nn.Dropout(0.5),\n",
        "        nn.Linear(num_features, 512),\n",
        "        nn.ReLU(),\n",
        "        nn.Dropout(0.3),\n",
        "        nn.Linear(512, num_classes)\n",
        "    )\n",
        "\n",
        "    return model"
      ],
      "metadata": {
        "id": "3C1aPy2CYZzj"
      },
      "execution_count": null,
      "outputs": []
    },
    {
      "cell_type": "code",
      "source": [
        "# Create the model\n",
        "model = create_resnet50_model(num_classes=3, freeze_layers=True)\n",
        "model = model.to(device)"
      ],
      "metadata": {
        "id": "zPNgEg7PYlb1"
      },
      "execution_count": null,
      "outputs": []
    },
    {
      "cell_type": "code",
      "source": [
        "# Print model summary\n",
        "print(\"=\"*50)\n",
        "print(\"MODEL SUMMARY\")\n",
        "print(\"=\"*50)\n",
        "try:\n",
        "    summary(model, (3, 128, 128))\n",
        "except:\n",
        "    # Alternative way to show model info\n",
        "    total_params = sum(p.numel() for p in model.parameters())\n",
        "    trainable_params = sum(p.numel() for p in model.parameters() if p.requires_grad)\n",
        "    print(f\"Total parameters: {total_params:,}\")\n",
        "    print(f\"Trainable parameters: {trainable_params:,}\")\n",
        "    print(f\"Non-trainable parameters: {total_params - trainable_params:,}\")"
      ],
      "metadata": {
        "id": "ZxzP0i4WZFYd"
      },
      "execution_count": null,
      "outputs": []
    },
    {
      "cell_type": "code",
      "source": [
        "# Define loss function and optimizer\n",
        "criterion = nn.CrossEntropyLoss()\n",
        "optimizer = optim.Adam(model.parameters(), lr=LR, weight_decay=1e-4)\n",
        "\n",
        "# Learning rate scheduler\n",
        "scheduler = optim.lr_scheduler.StepLR(optimizer, step_size=7, gamma=0.1)"
      ],
      "metadata": {
        "id": "bhmQ-iy9ZFU_"
      },
      "execution_count": null,
      "outputs": []
    },
    {
      "cell_type": "code",
      "source": [
        "# Training function\n",
        "def train_epoch(model, train_loader, criterion, optimizer, device):\n",
        "    model.train()\n",
        "    running_loss = 0.0\n",
        "    correct = 0\n",
        "    total = 0\n",
        "\n",
        "    train_bar = tqdm(train_loader, desc='Training')\n",
        "    for batch_idx, (data, target) in enumerate(train_bar):\n",
        "        data, target = data.to(device), target.to(device)\n",
        "\n",
        "        optimizer.zero_grad()\n",
        "        output = model(data)\n",
        "        loss = criterion(output, target)\n",
        "        loss.backward()\n",
        "        optimizer.step()\n",
        "\n",
        "        running_loss += loss.item()\n",
        "        _, predicted = torch.max(output.data, 1)\n",
        "        total += target.size(0)\n",
        "        correct += (predicted == target).sum().item()\n",
        "\n",
        "        train_bar.set_postfix({\n",
        "            'Loss': f'{running_loss/(batch_idx+1):.4f}',\n",
        "            'Acc': f'{100.*correct/total:.2f}%'\n",
        "        })\n",
        "\n",
        "    epoch_loss = running_loss / len(train_loader)\n",
        "    epoch_acc = 100. * correct / total\n",
        "    return epoch_loss, epoch_acc"
      ],
      "metadata": {
        "id": "piNSs1seZFSh"
      },
      "execution_count": null,
      "outputs": []
    },
    {
      "cell_type": "code",
      "source": [
        "# Validation function\n",
        "def validate_epoch(model, val_loader, criterion, device):\n",
        "    model.eval()\n",
        "    val_loss = 0.0\n",
        "    correct = 0\n",
        "    total = 0\n",
        "\n",
        "    with torch.no_grad():\n",
        "        val_bar = tqdm(val_loader, desc='Validation')\n",
        "        for data, target in val_bar:\n",
        "            data, target = data.to(device), target.to(device)\n",
        "            output = model(data)\n",
        "            val_loss += criterion(output, target).item()\n",
        "            _, predicted = torch.max(output.data, 1)\n",
        "            total += target.size(0)\n",
        "            correct += (predicted == target).sum().item()\n",
        "\n",
        "            val_bar.set_postfix({\n",
        "                'Loss': f'{val_loss/len(val_loader):.4f}',\n",
        "                'Acc': f'{100.*correct/total:.2f}%'\n",
        "            })\n",
        "\n",
        "    val_loss /= len(val_loader)\n",
        "    val_acc = 100. * correct / total\n",
        "    return val_loss, val_acc"
      ],
      "metadata": {
        "id": "qgzLeCMVZFP8"
      },
      "execution_count": null,
      "outputs": []
    },
    {
      "cell_type": "code",
      "source": [
        "# Training loop\n",
        "print(\"\\n\" + \"=\"*50)\n",
        "print(\"STARTING TRAINING\")\n",
        "print(\"=\"*50)"
      ],
      "metadata": {
        "id": "B2t274d7ZFNJ"
      },
      "execution_count": null,
      "outputs": []
    },
    {
      "cell_type": "code",
      "source": [
        "train_losses = []\n",
        "train_accuracies = []\n",
        "val_losses = []\n",
        "val_accuracies = []\n",
        "\n",
        "best_val_acc = 0.0\n",
        "best_model_state = None\n",
        "\n",
        "for epoch in range(EPOCHS):\n",
        "    print(f\"\\nEpoch {epoch+1}/{EPOCHS}\")\n",
        "    print(\"-\" * 30)\n",
        "\n",
        "    # Train\n",
        "    train_loss, train_acc = train_epoch(model, train_loader, criterion, optimizer, device)\n",
        "\n",
        "    # Validate\n",
        "    val_loss, val_acc = validate_epoch(model, val_loader, criterion, device)\n",
        "\n",
        "    # Update scheduler\n",
        "    scheduler.step()\n",
        "\n",
        "    # Save best model\n",
        "    if val_acc > best_val_acc:\n",
        "        best_val_acc = val_acc\n",
        "        best_model_state = model.state_dict().copy()\n",
        "\n",
        "    # Store metrics\n",
        "    train_losses.append(train_loss)\n",
        "    train_accuracies.append(train_acc)\n",
        "    val_losses.append(val_loss)\n",
        "    val_accuracies.append(val_acc)\n",
        "\n",
        "    print(f\"Train Loss: {train_loss:.4f}, Train Acc: {train_acc:.2f}%\")\n",
        "    print(f\"Val Loss: {val_loss:.4f}, Val Acc: {val_acc:.2f}%\")\n",
        "    print(f\"Learning Rate: {scheduler.get_last_lr()[0]:.6f}\")"
      ],
      "metadata": {
        "id": "sayRctlYZFKC"
      },
      "execution_count": null,
      "outputs": []
    },
    {
      "cell_type": "code",
      "source": [
        "# Test function\n",
        "def test_model(model, test_loader, device):\n",
        "    model.eval()\n",
        "    correct = 0\n",
        "    total = 0\n",
        "    all_predicted = []\n",
        "    all_targets = []\n",
        "\n",
        "    with torch.no_grad():\n",
        "        test_bar = tqdm(test_loader, desc='Testing')\n",
        "        for data, target in test_bar:\n",
        "            data, target = data.to(device), target.to(device)\n",
        "            outputs = model(data)\n",
        "            _, predicted = torch.max(outputs, 1)\n",
        "            total += target.size(0)\n",
        "            correct += (predicted == target).sum().item()\n",
        "\n",
        "            all_predicted.extend(predicted.cpu().numpy())\n",
        "            all_targets.extend(target.cpu().numpy())\n",
        "\n",
        "            test_bar.set_postfix({'Acc': f'{100.*correct/total:.2f}%'})\n",
        "\n",
        "    test_acc = 100. * correct / total\n",
        "    return test_acc, all_predicted, all_targets"
      ],
      "metadata": {
        "id": "n1pRsNdqaz16"
      },
      "execution_count": null,
      "outputs": []
    },
    {
      "cell_type": "code",
      "source": [
        "# Test the model\n",
        "print(\"\\n\" + \"=\"*50)\n",
        "print(\"TESTING MODEL\")\n",
        "print(\"=\"*50)\n",
        "\n",
        "test_acc, predictions, targets = test_model(model, test_loader, device)\n",
        "print(f\"Test Accuracy: {test_acc:.2f}%\")"
      ],
      "metadata": {
        "id": "priWISi0azyY"
      },
      "execution_count": null,
      "outputs": []
    },
    {
      "cell_type": "code",
      "source": [
        "# Get class names\n",
        "class_names = label_encoder.classes_"
      ],
      "metadata": {
        "id": "DlwHCylibREw"
      },
      "execution_count": null,
      "outputs": []
    },
    {
      "cell_type": "code",
      "source": [
        "# Print classification report\n",
        "print(\"\\n\" + \"=\"*50)\n",
        "print(\"CLASSIFICATION REPORT\")\n",
        "print(\"=\"*50)\n",
        "print(classification_report(targets, predictions, target_names=class_names))"
      ],
      "metadata": {
        "id": "_fwde5lBbS1S"
      },
      "execution_count": null,
      "outputs": []
    },
    {
      "cell_type": "code",
      "source": [
        "# Plotting Training Progress\n",
        "plt.figure(figsize=(15, 5))"
      ],
      "metadata": {
        "id": "K3jpG7PcbUcJ"
      },
      "execution_count": null,
      "outputs": []
    },
    {
      "cell_type": "code",
      "source": [
        "# Plot 1: Training and Validation Loss\n",
        "plt.subplot(1, 3, 1)\n",
        "plt.plot(range(1, EPOCHS+1), train_losses, 'b-', label='Training Loss')\n",
        "plt.plot(range(1, EPOCHS+1), val_losses, 'r-', label='Validation Loss')\n",
        "plt.xlabel('Epoch')\n",
        "plt.ylabel('Loss')\n",
        "plt.title('Training and Validation Loss')\n",
        "plt.legend()\n",
        "plt.grid(True)"
      ],
      "metadata": {
        "id": "2q6l-p3pbWY1"
      },
      "execution_count": null,
      "outputs": []
    },
    {
      "cell_type": "code",
      "source": [
        "# Plot 2: Training and Validation Accuracy\n",
        "plt.subplot(1, 3, 2)\n",
        "plt.plot(range(1, EPOCHS+1), train_accuracies, 'b-', label='Training Accuracy')\n",
        "plt.plot(range(1, EPOCHS+1), val_accuracies, 'r-', label='Validation Accuracy')\n",
        "plt.xlabel('Epoch')\n",
        "plt.ylabel('Accuracy (%)')\n",
        "plt.title('Training and Validation Accuracy')\n",
        "plt.legend()\n",
        "plt.grid(True)"
      ],
      "metadata": {
        "id": "AUGazUNWbYYN"
      },
      "execution_count": null,
      "outputs": []
    },
    {
      "cell_type": "code",
      "source": [
        "# Plot 3: Confusion Matrix\n",
        "plt.subplot(1, 3, 3)\n",
        "cm = confusion_matrix(targets, predictions)\n",
        "sns.heatmap(cm, annot=True, fmt='d', cmap='Blues',\n",
        "            xticklabels=class_names, yticklabels=class_names)\n",
        "plt.xlabel('Predicted')\n",
        "plt.ylabel('Actual')\n",
        "plt.title('Confusion Matrix')\n",
        "\n",
        "plt.tight_layout()\n",
        "plt.show()"
      ],
      "metadata": {
        "id": "U01Euf4GbcPj"
      },
      "execution_count": null,
      "outputs": []
    },
    {
      "cell_type": "code",
      "source": [
        "# Inference function for single images\n",
        "def predict_single_image(model, image_path, transform, device, label_encoder):\n",
        "    \"\"\"\n",
        "    Predict class for a single image\n",
        "\n",
        "    Args:\n",
        "        model: Trained model\n",
        "        image_path: Path to the image\n",
        "        transform: Image transformation\n",
        "        device: Device to run inference on\n",
        "        label_encoder: Label encoder for class names\n",
        "    \"\"\"\n",
        "    model.eval()\n",
        "\n",
        "    # Load and preprocess image\n",
        "    image = Image.open(image_path).convert('RGB')\n",
        "    image = transform(image).unsqueeze(0).to(device)\n",
        "\n",
        "    with torch.no_grad():\n",
        "        output = model(image)\n",
        "        probabilities = torch.nn.functional.softmax(output, dim=1)\n",
        "        _, predicted = torch.max(output, 1)\n",
        "\n",
        "        predicted_class = label_encoder.inverse_transform([predicted.cpu().numpy()[0]])[0]\n",
        "        confidence = probabilities[0][predicted].item() * 100\n",
        "\n",
        "        return predicted_class, confidence, probabilities.cpu().numpy()[0]"
      ],
      "metadata": {
        "id": "P08z51Qlbkc9"
      },
      "execution_count": null,
      "outputs": []
    },
    {
      "cell_type": "code",
      "source": [
        "# Take a random sample from test set for inference example\n",
        "sample_image_path = test.iloc[0]['image_paths']\n",
        "true_label = test.iloc[0]['labels']\n",
        "\n",
        "predicted_class, confidence, all_probs = predict_single_image(\n",
        "    model, sample_image_path, transform, device, label_encoder\n",
        ")\n",
        "\n",
        "print(f\"Image: {sample_image_path}\")\n",
        "print(f\"True Label: {true_label}\")\n",
        "print(f\"Predicted: {predicted_class}\")\n",
        "print(f\"Confidence: {confidence:.2f}%\")\n",
        "print(f\"All class probabilities:\")\n",
        "for i, class_name in enumerate(class_names):\n",
        "    print(f\"  {class_name}: {all_probs[i]*100:.2f}%\")\n"
      ],
      "metadata": {
        "id": "NP0lZ7eoazvk"
      },
      "execution_count": null,
      "outputs": []
    },
    {
      "cell_type": "code",
      "source": [
        "# Display the sample image with prediction\n",
        "plt.figure(figsize=(8, 6))\n",
        "img = Image.open(sample_image_path)\n",
        "plt.imshow(img)\n",
        "plt.axis('off')\n",
        "plt.title(f'True: {true_label} | Predicted: {predicted_class} ({confidence:.1f}%)')\n",
        "plt.show()"
      ],
      "metadata": {
        "id": "AyZN8wqiazqA"
      },
      "execution_count": null,
      "outputs": []
    }
  ]
}